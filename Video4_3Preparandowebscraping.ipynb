{
  "nbformat": 4,
  "nbformat_minor": 0,
  "metadata": {
    "colab": {
      "provenance": [],
      "include_colab_link": true
    },
    "kernelspec": {
      "name": "python3",
      "display_name": "Python 3"
    },
    "language_info": {
      "name": "python"
    }
  },
  "cells": [
    {
      "cell_type": "markdown",
      "metadata": {
        "id": "view-in-github",
        "colab_type": "text"
      },
      "source": [
        "<a href=\"https://colab.research.google.com/github/marceliogp/alura-PreparandoWebScraping/blob/main/Video4_3Preparandowebscraping.ipynb\" target=\"_parent\"><img src=\"https://colab.research.google.com/assets/colab-badge.svg\" alt=\"Open In Colab\"/></a>"
      ]
    },
    {
      "cell_type": "code",
      "source": [
        "import requests\n",
        "import re"
      ],
      "metadata": {
        "id": "VqG-G_MviA4c"
      },
      "execution_count": null,
      "outputs": []
    },
    {
      "cell_type": "code",
      "source": [
        "url = \"https://monicahillman.github.io/monibank/\"\n",
        "response = requests.get(url)\n",
        "html_content = response.text"
      ],
      "metadata": {
        "id": "8rbBeHC_kJS-"
      },
      "execution_count": null,
      "outputs": []
    },
    {
      "cell_type": "code",
      "source": [
        "# Verifique se a requisição foi bem-sucedida\n",
        "if response.status_code == 200:\n",
        "    # Conteúdo da página\n",
        "    pagina = response.text\n",
        "\n",
        "    # Padrao regex para encontrar linhas com a palavra \"moni\"\n",
        "    padrao = r''\n",
        "\n",
        "    # Divida o conteúdo da página em linhas\n",
        "    linhas = pagina.split('\\n')\n",
        "\n",
        "    for indice, linha in enumerate(linhas, start=1):\n",
        "        if re.search(padrao, linha, re.IGNORECASE):\n",
        "            print(f\"Linha {indice}: {linha}\")\n",
        "else:\n",
        "    print(f\"A requisição GET para {url} falhou com o código {response.status_code}\")"
      ],
      "metadata": {
        "id": "yvdZwrl-kuj4"
      },
      "execution_count": null,
      "outputs": []
    }
  ]
}